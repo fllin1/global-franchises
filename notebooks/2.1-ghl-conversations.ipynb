{
 "cells": [
  {
   "cell_type": "markdown",
   "id": "66a0608c",
   "metadata": {},
   "source": [
    "# Go High Level"
   ]
  },
  {
   "cell_type": "markdown",
   "id": "8292a260",
   "metadata": {},
   "source": [
    "## Search Conversations\n",
    "\n",
    "https://marketplace.gohighlevel.com/docs/ghl/conversations/search-conversation/index.html"
   ]
  },
  {
   "cell_type": "code",
   "execution_count": 59,
   "id": "c4dfd2bb",
   "metadata": {},
   "outputs": [
    {
     "data": {
      "text/plain": [
       "276"
      ]
     },
     "execution_count": 59,
     "metadata": {},
     "output_type": "execute_result"
    }
   ],
   "source": [
    "import requests\n",
    "import os\n",
    "import json\n",
    "\n",
    "from dotenv import load_dotenv\n",
    "\n",
    "load_dotenv()\n",
    "\n",
    "TOKEN = os.environ.get(\"GHL_TOKEN\")\n",
    "\n",
    "location_id = \"JMKW7uSiXL63XD0a2duU\"\n",
    "url = f\"https://services.leadconnectorhq.com/conversations/search?locationId={location_id}\"\n",
    "\n",
    "payload = {}\n",
    "headers = {\n",
    "    \"Accept\": \"application/json\",\n",
    "    \"Version\": \"2021-04-15\",\n",
    "    \"Authorization\": f\"Bearer {TOKEN}\",\n",
    "}\n",
    "\n",
    "response = requests.request(\"GET\", url, headers=headers, data=payload)\n",
    "response_json = json.loads(response.text)\n",
    "\n",
    "response_json[\"total\"]"
   ]
  },
  {
   "cell_type": "markdown",
   "id": "6cbb875a",
   "metadata": {},
   "source": [
    "## Get messages by conversation id\n",
    "\n",
    "https://marketplace.gohighlevel.com/docs/ghl/conversations/get-messages/index.html"
   ]
  },
  {
   "cell_type": "code",
   "execution_count": null,
   "id": "30da4534",
   "metadata": {},
   "outputs": [
    {
     "data": {
      "text/plain": [
       "{'messages': {'lastMessageId': 'at1GmNIrlgfScOB2d8O2',\n",
       "  'nextPage': False,\n",
       "  'messages': [{'id': 'at1GmNIrlgfScOB2d8O2',\n",
       "    'type': 3,\n",
       "    'locationId': 'JMKW7uSiXL63XD0a2duU',\n",
       "    'contactId': 'BGEAyBCqByriTjRAkhAr',\n",
       "    'conversationId': 'hEKzEHN89kZuQkHePyir',\n",
       "    'dateAdded': '2025-08-10T15:02:06.822Z',\n",
       "    'meta': {'email': {'messageIds': ['MJ1hQRHRuXPq300EAAYS']}},\n",
       "    'source': 'bulk_actions',\n",
       "    'messageType': 'TYPE_EMAIL'}]},\n",
       " 'traceId': 'aeaf7215-314a-46ae-8ea7-880905b7dda5'}"
      ]
     },
     "execution_count": 45,
     "metadata": {},
     "output_type": "execute_result"
    }
   ],
   "source": [
    "conv_id = \"hEKzEHN89kZuQkHePyir\"\n",
    "\n",
    "url = f\"https://services.leadconnectorhq.com/conversations/{conv_id}/messages\"\n",
    "\n",
    "payload = {}\n",
    "headers = {\n",
    "    \"Accept\": \"application/json\",\n",
    "    \"Version\": \"2021-04-15\",\n",
    "    \"Authorization\": f\"Bearer {TOKEN}\",\n",
    "}\n",
    "\n",
    "response = requests.request(\"GET\", url, headers=headers, data=payload)\n",
    "\n",
    "response_json = json.loads(response.text)\n",
    "\n",
    "response_json"
   ]
  },
  {
   "cell_type": "markdown",
   "id": "13321af7",
   "metadata": {},
   "source": [
    "## Get message by message id\n",
    "\n",
    "https://marketplace.gohighlevel.com/docs/ghl/conversations/get-message"
   ]
  },
  {
   "cell_type": "code",
   "execution_count": 46,
   "id": "82760832",
   "metadata": {},
   "outputs": [
    {
     "data": {
      "text/plain": [
       "{'id': 'at1GmNIrlgfScOB2d8O2',\n",
       " 'type': 3,\n",
       " 'locationId': 'JMKW7uSiXL63XD0a2duU',\n",
       " 'body': '<div style=\"font-family: Roboto, Arial; font-size: 14px;\"><html><head><style>.ProseMirror p.custom-newline, .custom-list p.custom-newline {margin: 0px; font-family: Inter, sans-serif;}</style></head><body><div class=\"ProseMirror\"><p style=\"line-height: 1.25;\">Hi&nbsp;Jon,</p><p style=\"line-height: 1.25;\">Nice seeing you at the convention. Is it possible to mail me available territories and the hot markets to present to my clients please.</p><p style=\"line-height: 1.25;\">Thank you</p><p style=\"line-height: 1.25;\">Best,</p><p style=\"line-height: 1.25;\">Manoj Soans</p><p style=\"line-height: 1.25;margin: 0px;color: rgb(34, 34, 34);font-family: Arial, Helvetica, sans-serif;font-size: small;font-style: normal;font-variant-ligatures: normal;font-variant-caps: normal;font-weight: 400;letter-spacing: normal;orphans: 2;text-align: start;text-indent: 0px;text-transform: none;widows: 2;word-spacing: 0px;-webkit-text-stroke-width: 0px;white-space: normal;background-color: rgb(255, 255, 255);text-decoration-thickness: initial;text-decoration-style: initial;text-decoration-color: initial;\" class=\"MsoNormal\">Franchise Consultant</p><p style=\"line-height: 1.25;margin: 0px;color: rgb(34, 34, 34);font-family: Arial, Helvetica, sans-serif;font-size: small;font-style: normal;font-variant-ligatures: normal;font-variant-caps: normal;font-weight: 400;letter-spacing: normal;orphans: 2;text-align: start;text-indent: 0px;text-transform: none;widows: 2;word-spacing: 0px;-webkit-text-stroke-width: 0px;white-space: normal;background-color: rgb(255, 255, 255);text-decoration-thickness: initial;text-decoration-style: initial;text-decoration-color: initial;\" class=\"MsoNormal\">Franchises Global</p><p style=\"line-height: 1.25;margin: 0px;color: rgb(34, 34, 34);font-family: Arial, Helvetica, sans-serif;font-size: small;font-style: normal;font-variant-ligatures: normal;font-variant-caps: normal;font-weight: 400;letter-spacing: normal;orphans: 2;text-align: start;text-indent: 0px;text-transform: none;widows: 2;word-spacing: 0px;-webkit-text-stroke-width: 0px;white-space: normal;background-color: rgb(255, 255, 255);text-decoration-thickness: initial;text-decoration-style: initial;text-decoration-color: initial;\" class=\"MsoNormal\">1224 N Broadway,</p><p style=\"line-height: 1.25;margin: 0px;color: rgb(34, 34, 34);font-family: Arial, Helvetica, sans-serif;font-size: small;font-style: normal;font-variant-ligatures: normal;font-variant-caps: normal;font-weight: 400;letter-spacing: normal;orphans: 2;text-align: start;text-indent: 0px;text-transform: none;widows: 2;word-spacing: 0px;-webkit-text-stroke-width: 0px;white-space: normal;background-color: rgb(255, 255, 255);text-decoration-thickness: initial;text-decoration-style: initial;text-decoration-color: initial;\" class=\"MsoNormal\">Santa Ana, CA 92701</p><p style=\"line-height: 1.25;margin: 0px;color: rgb(34, 34, 34);font-family: Arial, Helvetica, sans-serif;font-size: small;font-style: normal;font-variant-ligatures: normal;font-variant-caps: normal;font-weight: 400;letter-spacing: normal;orphans: 2;text-align: start;text-indent: 0px;text-transform: none;widows: 2;word-spacing: 0px;-webkit-text-stroke-width: 0px;white-space: normal;background-color: rgb(255, 255, 255);text-decoration-thickness: initial;text-decoration-style: initial;text-decoration-color: initial;\" class=\"MsoNormal\">p:(310)999-1670</p><p style=\"line-height: 1.25;margin: 0px;color: rgb(34, 34, 34);font-family: Arial, Helvetica, sans-serif;font-size: small;font-style: normal;font-variant-ligatures: normal;font-variant-caps: normal;font-weight: 400;letter-spacing: normal;orphans: 2;text-align: start;text-indent: 0px;text-transform: none;widows: 2;word-spacing: 0px;-webkit-text-stroke-width: 0px;white-space: normal;background-color: rgb(255, 255, 255);text-decoration-thickness: initial;text-decoration-style: initial;text-decoration-color: initial;\" class=\"MsoNormal\"><a target=\"_blank\" rel=\"noopener noreferrer nofollow\" href=\"mailto:e%3Amanojsoans@franchisesglobal.com\">e:</a><a target=\"_blank\" rel=\"noopener noreferrer nofollow\" href=\"mailto:manojsoans@franchisesglobal.com\">manojsoans@franchisesglobal.com</a></p><p style=\"line-height: 1.25;margin: 0px;color: rgb(34, 34, 34);font-family: Arial, Helvetica, sans-serif;font-size: small;font-style: normal;font-variant-ligatures: normal;font-variant-caps: normal;font-weight: 400;letter-spacing: normal;orphans: 2;text-align: start;text-indent: 0px;text-transform: none;widows: 2;word-spacing: 0px;-webkit-text-stroke-width: 0px;white-space: normal;background-color: rgb(255, 255, 255);text-decoration-thickness: initial;text-decoration-style: initial;text-decoration-color: initial;\" class=\"MsoNormal\">w:<a target=\"_blank\" rel=\"noopener noreferrer nofollow\" href=\"http://www.franchisesglobal.com\">www.franchisesglobal.com</a></p><br/><p style=\"line-height: 1.25;margin: 0px;color: rgb(34, 34, 34);font-family: Arial, Helvetica, sans-serif;font-size: small;font-style: normal;font-variant-ligatures: normal;font-variant-caps: normal;font-weight: 400;letter-spacing: normal;orphans: 2;text-align: start;text-indent: 0px;text-transform: none;widows: 2;word-spacing: 0px;-webkit-text-stroke-width: 0px;white-space: normal;background-color: rgb(255, 255, 255);text-decoration-thickness: initial;text-decoration-style: initial;text-decoration-color: initial;\" class=\"MsoNormal\">&nbsp;<img src=\"https://storage.googleapis.com/msgsndr/JMKW7uSiXL63XD0a2duU/media/688a74543c5f72b19aed7ca3.png\" alt=\"Profile Pic\" title=\"Profile Pic\" style=\"height: auto;width: 100px;clear: both;\" width=\"100\"></p></div><br/><p>If you no longer wish to receive these emails you may <a style=\"color: #000000;margin: 0;text-decoration: underline;\" href=\"https://services.msgsndr.com/emails/builder/unsubscribe-view/JMKW7uSiXL63XD0a2duU/BGEAyBCqByriTjRAkhAr?email=jcerf%40coreprogression.com&message_id=MJ1hQRHRuXPq300EAAYS&time_stamp=1754838077124\">unsubscribe</a></p></body></div>',\n",
       " 'contactId': 'BGEAyBCqByriTjRAkhAr',\n",
       " 'conversationId': 'hEKzEHN89kZuQkHePyir',\n",
       " 'dateAdded': '2025-08-10T15:02:06.822Z',\n",
       " 'meta': {'email': {'messageIds': ['MJ1hQRHRuXPq300EAAYS']}},\n",
       " 'source': 'bulk_actions',\n",
       " 'messageType': 'TYPE_EMAIL'}"
      ]
     },
     "execution_count": 46,
     "metadata": {},
     "output_type": "execute_result"
    }
   ],
   "source": [
    "import requests\n",
    "\n",
    "message_id = \"at1GmNIrlgfScOB2d8O2\"\n",
    "url = f\"https://services.leadconnectorhq.com/conversations/messages/{message_id}\"\n",
    "\n",
    "payload = {}\n",
    "headers = {\n",
    "    \"Accept\": \"application/json\",\n",
    "    \"Version\": \"2021-04-15\",\n",
    "    \"Authorization\": f\"Bearer {TOKEN}\",\n",
    "}\n",
    "\n",
    "response = requests.request(\"GET\", url, headers=headers, data=payload)\n",
    "\n",
    "response_json = json.loads(response.text)\n",
    "\n",
    "response_json[\"message\"]"
   ]
  },
  {
   "cell_type": "markdown",
   "id": "20af1f85",
   "metadata": {},
   "source": [
    "## Email Cleaning\n",
    "\n",
    "https://chatgpt.com/share/e/6898b4fe-c8ac-8001-8802-e7abbd2afd14"
   ]
  },
  {
   "cell_type": "code",
   "execution_count": null,
   "id": "375baf04",
   "metadata": {},
   "outputs": [],
   "source": [
    "from bs4 import BeautifulSoup, Comment\n",
    "import re\n",
    "import unicodedata\n",
    "\n",
    "# --- Heuristics tuned for EN-only threads ---\n",
    "REPLY_MARKERS = [\n",
    "    r\"^On .+ wrote:\\s*$\",\n",
    "    r\"^On .+ at .+ wrote:\\s*$\",\n",
    "    r\"^On .+,\\s*.+ wrote:\\s*$\",\n",
    "    r\"^-----Original Message-----$\",\n",
    "    r\"^Begin forwarded message:$\",\n",
    "    r\"^Forwarded message:$\",\n",
    "    r\"^From:\\s?.+$\",\n",
    "    r\"^To:\\s?.+$\",\n",
    "    r\"^Sent:\\s?.+$\",\n",
    "    r\"^Subject:\\s?.+$\",\n",
    "    r\"^Reply above this line$\",\n",
    "]\n",
    "SIG_MARKERS = [\n",
    "    r\"^\\s*--\\s*$\",  # standard sig delimiter\n",
    "    r\"^Thanks,?$\",\n",
    "    r\"^Thank you,?$\",\n",
    "    r\"^Best( regards)?,?$\",\n",
    "    r\"^Kind regards,?$\",\n",
    "    r\"^Regards,?$\",\n",
    "    r\"^Sincerely,?$\",\n",
    "    r\"^Cheers,?$\",\n",
    "    r\"^Sent from my iPhone\",\n",
    "    r\"^Sent from my Android\",\n",
    "]\n",
    "\n",
    "FOOTER_NOISE_RE = re.compile(\n",
    "    r\"(unsubscribe|manage preferences|update your preferences|privacy|terms|confidentiality|do not reply|view this email in your browser)\",\n",
    "    re.I,\n",
    ")\n",
    "ZERO_WIDTH_RE = re.compile(r\"\\u200b|\\u200c|\\u200d|\\ufeff\")\n",
    "MULTISPACE_RE = re.compile(r\"[ \\t]+\")\n",
    "EXTRA_NEWLINES_RE = re.compile(r\"\\n{3,}\")\n",
    "\n",
    "\n",
    "def _is_hidden(el) -> bool:\n",
    "    style = (el.get(\"style\") or \"\").lower()\n",
    "    if any(k in style for k in (\"display:none\", \"visibility:hidden\", \"opacity:0\")):\n",
    "        return True\n",
    "    if el.get(\"aria-hidden\") == \"true\":\n",
    "        return True\n",
    "    w = (el.get(\"width\") or \"\").lower()\n",
    "    h = (el.get(\"height\") or \"\").lower()\n",
    "    if w in {\"1\", \"1px\"} and h in {\"1\", \"1px\"}:\n",
    "        return True\n",
    "    return False\n",
    "\n",
    "\n",
    "def _strip_reply_and_signature(lines):\n",
    "    reply_rx = [re.compile(p, re.I) for p in REPLY_MARKERS]\n",
    "    sig_rx = [re.compile(p, re.I) for p in SIG_MARKERS]\n",
    "    kept = []\n",
    "    for line in lines:\n",
    "        if line.startswith(\">\"):  # quoted block\n",
    "            break\n",
    "        if any(rx.search(line) for rx in reply_rx):\n",
    "            break\n",
    "        if any(rx.search(line) for rx in sig_rx):\n",
    "            break\n",
    "        kept.append(line)\n",
    "    return kept\n",
    "\n",
    "\n",
    "def _replace_links(soup: BeautifulSoup, keep_links: bool):\n",
    "    for a in soup.find_all(\"a\"):\n",
    "        text = (a.get_text(strip=True) or \"\").strip()\n",
    "        href = (a.get(\"href\") or \"\").strip()\n",
    "        if not href or not keep_links or href.lower().startswith(\"javascript:\"):\n",
    "            a.replace_with(text)\n",
    "        else:\n",
    "            a.replace_with(f\"{text} ({href})\" if text else href)\n",
    "\n",
    "\n",
    "def _prepare_lists(soup: BeautifulSoup):\n",
    "    # Turn list items into bullet lines to preserve structure\n",
    "    for li in soup.find_all(\"li\"):\n",
    "        li.insert_before(\"\\n- \")\n",
    "        li.insert_after(\"\\n\")\n",
    "\n",
    "\n",
    "def clean_email_html(html: str, *, keep_links: bool = True) -> str:\n",
    "    \"\"\"\n",
    "    Convert messy email HTML to clean plaintext.\n",
    "      - remove scripts/styles/hidden nodes/trackers\n",
    "      - drop common footer boilerplate (unsubscribe/legal)\n",
    "      - preserve bullets and (optionally) links\n",
    "      - strip quoted reply history and signatures\n",
    "    \"\"\"\n",
    "    # 1) Parse\n",
    "    soup = BeautifulSoup(html or \"\", \"lxml\")\n",
    "\n",
    "    # Remove comments early\n",
    "    for c in soup.find_all(string=lambda t: isinstance(t, Comment)):\n",
    "        c.extract()\n",
    "\n",
    "    # Remove noisy tags entirely\n",
    "    for tag in soup([\"script\", \"style\", \"noscript\", \"svg\", \"form\", \"iframe\", \"head\"]):\n",
    "        tag.decompose()\n",
    "\n",
    "    # Remove hidden/tracking elements\n",
    "    for el in list(soup.find_all(True)):\n",
    "        if _is_hidden(el):\n",
    "            el.decompose()\n",
    "\n",
    "    # Drop footer/legal/unsubscribe blocks\n",
    "    for node in list(soup.find_all(string=FOOTER_NOISE_RE)):\n",
    "        block = node.find_parent([\"footer\", \"table\", \"div\", \"section\", \"p\"])\n",
    "        if block:\n",
    "            block.decompose()\n",
    "\n",
    "    # 2) Light structural normalization\n",
    "    for br in soup.find_all(\"br\"):\n",
    "        br.replace_with(\"\\n\")\n",
    "    _prepare_lists(soup)\n",
    "    _replace_links(soup, keep_links=keep_links)\n",
    "\n",
    "    # Add newlines around blocks so words don’t jam together\n",
    "    for blk in soup.find_all(\n",
    "        [\n",
    "            \"p\",\n",
    "            \"div\",\n",
    "            \"section\",\n",
    "            \"tr\",\n",
    "            \"ul\",\n",
    "            \"ol\",\n",
    "            \"table\",\n",
    "            \"h1\",\n",
    "            \"h2\",\n",
    "            \"h3\",\n",
    "            \"h4\",\n",
    "            \"h5\",\n",
    "            \"h6\",\n",
    "        ]\n",
    "    ):\n",
    "        blk.insert_before(\"\\n\")\n",
    "        blk.insert_after(\"\\n\")\n",
    "\n",
    "    # 3) Extract text\n",
    "    text = soup.get_text(separator=\" \", strip=True)\n",
    "\n",
    "    # 4) Normalize whitespace and unicode\n",
    "    text = unicodedata.normalize(\"NFKC\", text)\n",
    "    text = ZERO_WIDTH_RE.sub(\"\", text)\n",
    "    text = MULTISPACE_RE.sub(\" \", text)\n",
    "    text = EXTRA_NEWLINES_RE.sub(\"\\n\\n\", text)\n",
    "\n",
    "    # 5) Strip quoted replies and signatures\n",
    "    lines = [ln.rstrip() for ln in text.splitlines()]\n",
    "    lines = _strip_reply_and_signature(lines)\n",
    "\n",
    "    out = \"\\n\".join(lines).strip()\n",
    "    return EXTRA_NEWLINES_RE.sub(\"\\n\\n\", out)"
   ]
  },
  {
   "cell_type": "code",
   "execution_count": 48,
   "id": "ff58b6e5",
   "metadata": {},
   "outputs": [
    {
     "data": {
      "text/plain": [
       "'Hi Jon, Nice seeing you at the convention. Is it possible to mail me available territories and the hot markets to present to my clients please. Thank you Best, Manoj Soans Franchise Consultant Franchises Global 1224 N Broadway, Santa Ana, CA 92701 p:(310)999-1670 e: (mailto:e%3Amanojsoans@franchisesglobal.com) manojsoans@franchisesglobal.com (mailto:manojsoans@franchisesglobal.com) w: www.franchisesglobal.com (http://www.franchisesglobal.com)'"
      ]
     },
     "execution_count": 48,
     "metadata": {},
     "output_type": "execute_result"
    }
   ],
   "source": [
    "sample = response_json[\"message\"][\"body\"]\n",
    "\n",
    "clean_email_html(sample)"
   ]
  }
 ],
 "metadata": {
  "kernelspec": {
   "display_name": "gf",
   "language": "python",
   "name": "python3"
  },
  "language_info": {
   "codemirror_mode": {
    "name": "ipython",
    "version": 3
   },
   "file_extension": ".py",
   "mimetype": "text/x-python",
   "name": "python",
   "nbconvert_exporter": "python",
   "pygments_lexer": "ipython3",
   "version": "3.12.11"
  }
 },
 "nbformat": 4,
 "nbformat_minor": 5
}
